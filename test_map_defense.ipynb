{
 "cells": [
  {
   "cell_type": "markdown",
   "metadata": {},
   "source": [
    "## YOLO V2"
   ]
  },
  {
   "cell_type": "code",
   "execution_count": null,
   "metadata": {},
   "outputs": [],
   "source": [
    "import time\n",
    "from pycocotools.coco import COCO\n",
    "from pycocotools.cocoeval import COCOeval\n",
    "import torch\n",
    "import cv2\n",
    "import numpy as np\n",
    "import json\n",
    "import glob\n",
    "import os\n",
    "\n",
    "from darknet_v2 import Darknet\n",
    "from util_model_img import load_classes, letterbox_image, image_to_tensor, predict_transform_v2, write_results\n",
    "\n",
    "\n",
    "def detection_defense(model, val_anno, img_dir, results_json, class_id, inp_dim, fps=False, device=\"cuda\"):\n",
    "\n",
    "    '''\n",
    "    val_anno: annotations of validation set images\n",
    "    img_dir: dir of validation set images\n",
    "    results_json: detection result\n",
    "    class_id: HA target class - person (0) and AA target class - stop sign (11)\n",
    "    '''\n",
    "\n",
    "    device = torch.device(device)\n",
    "\n",
    "    file2id = dict()\n",
    "    with open(val_anno) as f:\n",
    "        dic = json.load(f)\n",
    "        images = dic['images']\n",
    "        for i in range(len(images)):\n",
    "            image = images[i]\n",
    "            file2id[image['file_name']] = image['id']\n",
    "\n",
    "    #imgs = glob.glob(\"%s/*.png\" % img_dir) + glob.glob(\"%s/*.jpg\" % img_dir)\n",
    "    imgs = [f for f in os.listdir(img_dir) if f.endswith('.jpg') or f.endswith('.png')]\n",
    "\n",
    "\n",
    "    results = []\n",
    "\n",
    "    if fps:\n",
    "        start = time.time()\n",
    "\n",
    "    for img in imgs:\n",
    "\n",
    "        image_id = file2id[img]\n",
    "\n",
    "        img_cv = cv2.imread(os.path.join(img_dir, img))\n",
    "        img_h, img_w, _ = img_cv.shape\n",
    "        img_cv = letterbox_image(img_cv, [inp_dim, inp_dim])\n",
    "        im_dim = torch.FloatTensor((img_w, img_h)).repeat(1,2).to(device)\n",
    "        img_ts = image_to_tensor(img_cv).to(device)\n",
    "        \n",
    "        output = model(img_ts)\n",
    "        \n",
    "        if type(output) != int:\n",
    "            im_dim = im_dim.repeat(output.size(0), 1)\n",
    "            scaling_factor = torch.min(inp_dim/im_dim,1)[0].view(-1,1).cuda()\n",
    "            output[:,[0,2]] -= (inp_dim - scaling_factor*im_dim[:,0].view(-1,1))/2\n",
    "            output[:,[1,3]] -= (inp_dim - scaling_factor*im_dim[:,1].view(-1,1))/2\n",
    "            output[:,0:4] /= scaling_factor\n",
    "            for i in range(output.shape[0]):\n",
    "                output[i, [0,2]] = torch.clamp(output[i, [0,2]], 0.0, im_dim[i,0])\n",
    "                output[i, [1,3]] = torch.clamp(output[i, [1,3]], 0.0, im_dim[i,1])\n",
    "                try:\n",
    "                    conf = output[i, 4].float().item()\n",
    "                except IndexError:\n",
    "                    print(output)\n",
    "                    exit()\n",
    "                cls = output[i, -1].int().item()\n",
    "                x = output[i, 0].int().item()\n",
    "                y = output[i, 1].int().item()\n",
    "                w = (output[i, 2] - output[i, 0]).float().item()\n",
    "                h = (output[i, 3] - output[i, 1]).float().item()\n",
    "\n",
    "                #print(image_id, cls, [xc, yc, w, h], conf)\n",
    "\n",
    "                results.append({'image_id': image_id,\n",
    "                                'category_id': cls,\n",
    "                                'bbox': [x, y, w, h],\n",
    "                                'score': conf})\n",
    "        \n",
    "    if fps:\n",
    "        end = time.time()\n",
    "        total_time = end-start\n",
    "        print(\"%d imgs, %f seconds, average: %f fps\" % (len(imgs), total_time, len(imgs)/total_time))\n",
    "\n",
    "    with open(results_json, 'w') as f:\n",
    "        f.write(json.dumps(results, indent=4))\n",
    "\n",
    "\n",
    "    cocoGt = COCO(val_anno)\n",
    "    cocoDt = cocoGt.loadRes(results_json)\n",
    "    cocoEval = COCOeval(cocoGt, cocoDt, 'bbox')\n",
    "    cocoEval.params.catIds = [class_id]\n",
    "    cocoEval.evaluate()\n",
    "    cocoEval.accumulate()\n",
    "    cocoEval.summarize()"
   ]
  },
  {
   "cell_type": "code",
   "execution_count": 2,
   "metadata": {},
   "outputs": [],
   "source": [
    "import patchFilter as pf\n",
    "\n",
    "device = \"cuda\"\n",
    "model_pf = pf.defense_model_v2()\n"
   ]
  },
  {
   "cell_type": "markdown",
   "metadata": {},
   "source": [
    "### INRIA 数据集\n"
   ]
  },
  {
   "cell_type": "code",
   "execution_count": 3,
   "metadata": {},
   "outputs": [
    {
     "name": "stdout",
     "output_type": "stream",
     "text": [
      "288 imgs, 10.638337 seconds, average: 27.071900 fps\n",
      "loading annotations into memory...\n",
      "Done (t=0.00s)\n",
      "creating index...\n",
      "index created!\n",
      "Loading and preparing results...\n",
      "DONE (t=0.00s)\n",
      "creating index...\n",
      "index created!\n",
      "Running per image evaluation...\n",
      "Evaluate annotation type *bbox*\n",
      "DONE (t=0.11s).\n",
      "Accumulating evaluation results...\n",
      "DONE (t=0.01s).\n",
      " Average Precision  (AP) @[ IoU=0.50:0.95 | area=   all | maxDets=100 ] = 0.499\n",
      " Average Precision  (AP) @[ IoU=0.50      | area=   all | maxDets=100 ] = 0.867\n",
      " Average Precision  (AP) @[ IoU=0.75      | area=   all | maxDets=100 ] = 0.509\n",
      " Average Precision  (AP) @[ IoU=0.50:0.95 | area= small | maxDets=100 ] = -1.000\n",
      " Average Precision  (AP) @[ IoU=0.50:0.95 | area=medium | maxDets=100 ] = 0.228\n",
      " Average Precision  (AP) @[ IoU=0.50:0.95 | area= large | maxDets=100 ] = 0.549\n",
      " Average Recall     (AR) @[ IoU=0.50:0.95 | area=   all | maxDets=  1 ] = 0.329\n",
      " Average Recall     (AR) @[ IoU=0.50:0.95 | area=   all | maxDets= 10 ] = 0.572\n",
      " Average Recall     (AR) @[ IoU=0.50:0.95 | area=   all | maxDets=100 ] = 0.573\n",
      " Average Recall     (AR) @[ IoU=0.50:0.95 | area= small | maxDets=100 ] = -1.000\n",
      " Average Recall     (AR) @[ IoU=0.50:0.95 | area=medium | maxDets=100 ] = 0.305\n",
      " Average Recall     (AR) @[ IoU=0.50:0.95 | area= large | maxDets=100 ] = 0.630\n"
     ]
    }
   ],
   "source": [
    "detection_defense(\n",
    "    model=model_pf,\n",
    "    val_anno=\"Dataset/HA/test_annotations.json\",\n",
    "    img_dir=\"Dataset/HA/INRIA/pos/\",\n",
    "    results_json=\"test_map/yolov2_inria_pf.json\",\n",
    "    class_id=0,\n",
    "    inp_dim=416,\n",
    "    fps=True\n",
    ")"
   ]
  },
  {
   "cell_type": "markdown",
   "metadata": {},
   "source": [
    "\n",
    "#### Adv Patch"
   ]
  },
  {
   "cell_type": "code",
   "execution_count": 4,
   "metadata": {},
   "outputs": [
    {
     "name": "stdout",
     "output_type": "stream",
     "text": [
      "288 imgs, 7.115052 seconds, average: 40.477569 fps\n",
      "loading annotations into memory...\n",
      "Done (t=0.00s)\n",
      "creating index...\n",
      "index created!\n",
      "Loading and preparing results...\n",
      "DONE (t=0.00s)\n",
      "creating index...\n",
      "index created!\n",
      "Running per image evaluation...\n",
      "Evaluate annotation type *bbox*\n",
      "DONE (t=0.08s).\n",
      "Accumulating evaluation results...\n",
      "DONE (t=0.02s).\n",
      " Average Precision  (AP) @[ IoU=0.50:0.95 | area=   all | maxDets=100 ] = 0.430\n",
      " Average Precision  (AP) @[ IoU=0.50      | area=   all | maxDets=100 ] = 0.784\n",
      " Average Precision  (AP) @[ IoU=0.75      | area=   all | maxDets=100 ] = 0.438\n",
      " Average Precision  (AP) @[ IoU=0.50:0.95 | area= small | maxDets=100 ] = 0.025\n",
      " Average Precision  (AP) @[ IoU=0.50:0.95 | area=medium | maxDets=100 ] = 0.305\n",
      " Average Precision  (AP) @[ IoU=0.50:0.95 | area= large | maxDets=100 ] = 0.582\n",
      " Average Recall     (AR) @[ IoU=0.50:0.95 | area=   all | maxDets=  1 ] = 0.305\n",
      " Average Recall     (AR) @[ IoU=0.50:0.95 | area=   all | maxDets= 10 ] = 0.492\n",
      " Average Recall     (AR) @[ IoU=0.50:0.95 | area=   all | maxDets=100 ] = 0.492\n",
      " Average Recall     (AR) @[ IoU=0.50:0.95 | area= small | maxDets=100 ] = 0.047\n",
      " Average Recall     (AR) @[ IoU=0.50:0.95 | area=medium | maxDets=100 ] = 0.363\n",
      " Average Recall     (AR) @[ IoU=0.50:0.95 | area= large | maxDets=100 ] = 0.668\n"
     ]
    }
   ],
   "source": [
    "detection_defense(\n",
    "    model=model_pf,\n",
    "    val_anno=\"Dataset/HA/test_adv_annotations.json\",\n",
    "    img_dir=\"Dataset/HA/INRIA/patch_v2/\",\n",
    "    results_json=\"test_map/yolov2_inria_patchv2_pf.json\",\n",
    "    class_id=0,\n",
    "    inp_dim=416,\n",
    "    fps=True\n",
    ")"
   ]
  },
  {
   "cell_type": "markdown",
   "metadata": {},
   "source": [
    "#### Adv Cloak"
   ]
  },
  {
   "cell_type": "code",
   "execution_count": null,
   "metadata": {},
   "outputs": [
    {
     "name": "stdout",
     "output_type": "stream",
     "text": [
      "288 imgs, 7.285420 seconds, average: 39.531008 fps\n",
      "loading annotations into memory...\n",
      "Done (t=0.00s)\n",
      "creating index...\n",
      "index created!\n",
      "Loading and preparing results...\n",
      "DONE (t=0.00s)\n",
      "creating index...\n",
      "index created!\n",
      "Running per image evaluation...\n",
      "Evaluate annotation type *bbox*\n",
      "DONE (t=0.08s).\n",
      "Accumulating evaluation results...\n",
      "DONE (t=0.02s).\n",
      " Average Precision  (AP) @[ IoU=0.50:0.95 | area=   all | maxDets=100 ] = 0.410\n",
      " Average Precision  (AP) @[ IoU=0.50      | area=   all | maxDets=100 ] = 0.749\n",
      " Average Precision  (AP) @[ IoU=0.75      | area=   all | maxDets=100 ] = 0.410\n",
      " Average Precision  (AP) @[ IoU=0.50:0.95 | area= small | maxDets=100 ] = 0.004\n",
      " Average Precision  (AP) @[ IoU=0.50:0.95 | area=medium | maxDets=100 ] = 0.302\n",
      " Average Precision  (AP) @[ IoU=0.50:0.95 | area= large | maxDets=100 ] = 0.555\n",
      " Average Recall     (AR) @[ IoU=0.50:0.95 | area=   all | maxDets=  1 ] = 0.298\n",
      " Average Recall     (AR) @[ IoU=0.50:0.95 | area=   all | maxDets= 10 ] = 0.476\n",
      " Average Recall     (AR) @[ IoU=0.50:0.95 | area=   all | maxDets=100 ] = 0.476\n",
      " Average Recall     (AR) @[ IoU=0.50:0.95 | area= small | maxDets=100 ] = 0.011\n",
      " Average Recall     (AR) @[ IoU=0.50:0.95 | area=medium | maxDets=100 ] = 0.359\n",
      " Average Recall     (AR) @[ IoU=0.50:0.95 | area= large | maxDets=100 ] = 0.638\n"
     ]
    }
   ],
   "source": [
    "\n",
    "detection_defense(\n",
    "    model=model_pf,\n",
    "    val_anno=\"Dataset/HA/test_adv_annotations.json\",\n",
    "    img_dir=\"Dataset/HA/INRIA/cloak_v2/\",\n",
    "    results_json=\"test_map/yolov2_inria_cloakv2_pf.json\",\n",
    "    class_id=0,\n",
    "    inp_dim=416,\n",
    "    fps=True\n",
    ")"
   ]
  },
  {
   "cell_type": "markdown",
   "metadata": {},
   "source": [
    "#### Adv Tshirt"
   ]
  },
  {
   "cell_type": "code",
   "execution_count": null,
   "metadata": {},
   "outputs": [
    {
     "name": "stdout",
     "output_type": "stream",
     "text": [
      "288 imgs, 7.228490 seconds, average: 39.842347 fps\n",
      "loading annotations into memory...\n",
      "Done (t=0.00s)\n",
      "creating index...\n",
      "index created!\n",
      "Loading and preparing results...\n",
      "DONE (t=0.00s)\n",
      "creating index...\n",
      "index created!\n",
      "Running per image evaluation...\n",
      "Evaluate annotation type *bbox*\n",
      "DONE (t=0.18s).\n",
      "Accumulating evaluation results...\n",
      "DONE (t=0.02s).\n",
      " Average Precision  (AP) @[ IoU=0.50:0.95 | area=   all | maxDets=100 ] = 0.373\n",
      " Average Precision  (AP) @[ IoU=0.50      | area=   all | maxDets=100 ] = 0.716\n",
      " Average Precision  (AP) @[ IoU=0.75      | area=   all | maxDets=100 ] = 0.342\n",
      " Average Precision  (AP) @[ IoU=0.50:0.95 | area= small | maxDets=100 ] = 0.000\n",
      " Average Precision  (AP) @[ IoU=0.50:0.95 | area=medium | maxDets=100 ] = 0.257\n",
      " Average Precision  (AP) @[ IoU=0.50:0.95 | area= large | maxDets=100 ] = 0.520\n",
      " Average Recall     (AR) @[ IoU=0.50:0.95 | area=   all | maxDets=  1 ] = 0.286\n",
      " Average Recall     (AR) @[ IoU=0.50:0.95 | area=   all | maxDets= 10 ] = 0.445\n",
      " Average Recall     (AR) @[ IoU=0.50:0.95 | area=   all | maxDets=100 ] = 0.445\n",
      " Average Recall     (AR) @[ IoU=0.50:0.95 | area= small | maxDets=100 ] = 0.000\n",
      " Average Recall     (AR) @[ IoU=0.50:0.95 | area=medium | maxDets=100 ] = 0.324\n",
      " Average Recall     (AR) @[ IoU=0.50:0.95 | area= large | maxDets=100 ] = 0.612\n"
     ]
    }
   ],
   "source": [
    "detection_defense(\n",
    "    model=model_pf,\n",
    "    val_anno=\"Dataset/HA/test_adv_annotations.json\",\n",
    "    img_dir=\"Dataset/HA/INRIA/tshirt_v2/\",\n",
    "    results_json=\"test_map/yolov2_inria_tshirtv2_pf.json\",\n",
    "    class_id=0,\n",
    "    inp_dim=416,\n",
    "    fps=True\n",
    ")"
   ]
  },
  {
   "cell_type": "markdown",
   "metadata": {},
   "source": [
    "#### Natural Patch"
   ]
  },
  {
   "cell_type": "code",
   "execution_count": 7,
   "metadata": {},
   "outputs": [
    {
     "name": "stdout",
     "output_type": "stream",
     "text": [
      "288 imgs, 7.317182 seconds, average: 39.359416 fps\n",
      "loading annotations into memory...\n",
      "Done (t=0.00s)\n",
      "creating index...\n",
      "index created!\n",
      "Loading and preparing results...\n",
      "DONE (t=0.00s)\n",
      "creating index...\n",
      "index created!\n",
      "Running per image evaluation...\n",
      "Evaluate annotation type *bbox*\n",
      "DONE (t=0.08s).\n",
      "Accumulating evaluation results...\n",
      "DONE (t=0.02s).\n",
      " Average Precision  (AP) @[ IoU=0.50:0.95 | area=   all | maxDets=100 ] = 0.293\n",
      " Average Precision  (AP) @[ IoU=0.50      | area=   all | maxDets=100 ] = 0.630\n",
      " Average Precision  (AP) @[ IoU=0.75      | area=   all | maxDets=100 ] = 0.241\n",
      " Average Precision  (AP) @[ IoU=0.50:0.95 | area= small | maxDets=100 ] = 0.006\n",
      " Average Precision  (AP) @[ IoU=0.50:0.95 | area=medium | maxDets=100 ] = 0.248\n",
      " Average Precision  (AP) @[ IoU=0.50:0.95 | area= large | maxDets=100 ] = 0.360\n",
      " Average Recall     (AR) @[ IoU=0.50:0.95 | area=   all | maxDets=  1 ] = 0.219\n",
      " Average Recall     (AR) @[ IoU=0.50:0.95 | area=   all | maxDets= 10 ] = 0.364\n",
      " Average Recall     (AR) @[ IoU=0.50:0.95 | area=   all | maxDets=100 ] = 0.364\n",
      " Average Recall     (AR) @[ IoU=0.50:0.95 | area= small | maxDets=100 ] = 0.021\n",
      " Average Recall     (AR) @[ IoU=0.50:0.95 | area=medium | maxDets=100 ] = 0.330\n",
      " Average Recall     (AR) @[ IoU=0.50:0.95 | area= large | maxDets=100 ] = 0.426\n"
     ]
    }
   ],
   "source": [
    "detection_defense(\n",
    "    model=model_pf,\n",
    "    val_anno=\"Dataset/HA/test_adv_annotations.json\",\n",
    "    img_dir=\"Dataset/HA/INRIA/natural_v2/\",\n",
    "    results_json=\"test_map/yolov2_inria_naturalv2_pf.json\",\n",
    "    class_id=0,\n",
    "    inp_dim=416,\n",
    "    fps=True\n",
    ")"
   ]
  },
  {
   "cell_type": "markdown",
   "metadata": {},
   "source": [
    "### AA"
   ]
  },
  {
   "cell_type": "code",
   "execution_count": 8,
   "metadata": {},
   "outputs": [
    {
     "name": "stdout",
     "output_type": "stream",
     "text": [
      "1000 imgs, 23.854434 seconds, average: 41.920927 fps\n",
      "loading annotations into memory...\n",
      "Done (t=0.00s)\n",
      "creating index...\n",
      "index created!\n",
      "Loading and preparing results...\n",
      "DONE (t=0.01s)\n",
      "creating index...\n",
      "index created!\n",
      "Running per image evaluation...\n",
      "Evaluate annotation type *bbox*\n",
      "DONE (t=0.12s).\n",
      "Accumulating evaluation results...\n",
      "DONE (t=0.03s).\n",
      " Average Precision  (AP) @[ IoU=0.50:0.95 | area=   all | maxDets=100 ] = 0.079\n",
      " Average Precision  (AP) @[ IoU=0.50      | area=   all | maxDets=100 ] = 0.114\n",
      " Average Precision  (AP) @[ IoU=0.75      | area=   all | maxDets=100 ] = 0.100\n",
      " Average Precision  (AP) @[ IoU=0.50:0.95 | area= small | maxDets=100 ] = -1.000\n",
      " Average Precision  (AP) @[ IoU=0.50:0.95 | area=medium | maxDets=100 ] = 0.037\n",
      " Average Precision  (AP) @[ IoU=0.50:0.95 | area= large | maxDets=100 ] = 0.129\n",
      " Average Recall     (AR) @[ IoU=0.50:0.95 | area=   all | maxDets=  1 ] = 0.085\n",
      " Average Recall     (AR) @[ IoU=0.50:0.95 | area=   all | maxDets= 10 ] = 0.085\n",
      " Average Recall     (AR) @[ IoU=0.50:0.95 | area=   all | maxDets=100 ] = 0.085\n",
      " Average Recall     (AR) @[ IoU=0.50:0.95 | area= small | maxDets=100 ] = -1.000\n",
      " Average Recall     (AR) @[ IoU=0.50:0.95 | area=medium | maxDets=100 ] = 0.036\n",
      " Average Recall     (AR) @[ IoU=0.50:0.95 | area= large | maxDets=100 ] = 0.135\n"
     ]
    }
   ],
   "source": [
    "detection_defense(\n",
    "    model=model_pf,\n",
    "    val_anno=\"Dataset/AA/stop_test_annotations.json\",\n",
    "    img_dir=\"Dataset/AA/imgs_s/\",\n",
    "    results_json=\"test_map/yolov2_aa_stopsign_pf.json\",\n",
    "    class_id=11,\n",
    "    inp_dim=416,\n",
    "    fps=True\n",
    ")"
   ]
  },
  {
   "cell_type": "code",
   "execution_count": 9,
   "metadata": {},
   "outputs": [
    {
     "name": "stdout",
     "output_type": "stream",
     "text": [
      "1000 imgs, 23.788232 seconds, average: 42.037592 fps\n",
      "loading annotations into memory...\n",
      "Done (t=0.00s)\n",
      "creating index...\n",
      "index created!\n",
      "Loading and preparing results...\n",
      "DONE (t=0.00s)\n",
      "creating index...\n",
      "index created!\n",
      "Running per image evaluation...\n",
      "Evaluate annotation type *bbox*\n",
      "DONE (t=0.21s).\n",
      "Accumulating evaluation results...\n",
      "DONE (t=0.03s).\n",
      " Average Precision  (AP) @[ IoU=0.50:0.95 | area=   all | maxDets=100 ] = 0.010\n",
      " Average Precision  (AP) @[ IoU=0.50      | area=   all | maxDets=100 ] = 0.017\n",
      " Average Precision  (AP) @[ IoU=0.75      | area=   all | maxDets=100 ] = 0.012\n",
      " Average Precision  (AP) @[ IoU=0.50:0.95 | area= small | maxDets=100 ] = -1.000\n",
      " Average Precision  (AP) @[ IoU=0.50:0.95 | area=medium | maxDets=100 ] = 0.000\n",
      " Average Precision  (AP) @[ IoU=0.50:0.95 | area= large | maxDets=100 ] = 0.047\n",
      " Average Recall     (AR) @[ IoU=0.50:0.95 | area=   all | maxDets=  1 ] = 0.034\n",
      " Average Recall     (AR) @[ IoU=0.50:0.95 | area=   all | maxDets= 10 ] = 0.041\n",
      " Average Recall     (AR) @[ IoU=0.50:0.95 | area=   all | maxDets=100 ] = 0.041\n",
      " Average Recall     (AR) @[ IoU=0.50:0.95 | area= small | maxDets=100 ] = -1.000\n",
      " Average Recall     (AR) @[ IoU=0.50:0.95 | area=medium | maxDets=100 ] = 0.001\n",
      " Average Recall     (AR) @[ IoU=0.50:0.95 | area= large | maxDets=100 ] = 0.081\n"
     ]
    }
   ],
   "source": [
    "\n",
    "detection_defense(\n",
    "    model=model_pf,\n",
    "    val_anno=\"Dataset/AA/person_test_annotations.json\",\n",
    "    img_dir=\"Dataset/AA/imgs_p/\",\n",
    "    results_json=\"test_map/yolov2_aa_person_pf.json\",\n",
    "    class_id=0,\n",
    "    inp_dim=416,\n",
    "    fps=True\n",
    ")"
   ]
  },
  {
   "cell_type": "markdown",
   "metadata": {},
   "source": [
    "## YOLO V3"
   ]
  },
  {
   "cell_type": "code",
   "execution_count": null,
   "metadata": {},
   "outputs": [],
   "source": [
    "import torch\n",
    "import cv2\n",
    "import numpy as np\n",
    "import time\n",
    "import json\n",
    "import glob\n",
    "from pycocotools.coco import COCO\n",
    "from pycocotools.cocoeval import COCOeval\n",
    "\n",
    "from util_model_img import write_result, letterbox_image, image_to_tensor\n",
    "\n",
    "\n",
    "def detection_defense_v3(model, val_anno, img_dir, results_json, class_id, inp_dim, fps=False, device=\"cuda\"):\n",
    "\n",
    "    '''\n",
    "    val_anno: annotations of validation set images\n",
    "    img_dir: dir of validation set images\n",
    "    results_json: detection result\n",
    "    class_id: HA target class - person (0) and AA target class - stop sign (11)\n",
    "    '''\n",
    "\n",
    "    file2id = dict()\n",
    "    with open(val_anno) as f:\n",
    "        dic = json.load(f)\n",
    "        images = dic['images']\n",
    "        for i in range(len(images)):\n",
    "            image = images[i]\n",
    "            file2id[image['file_name']] = image['id']\n",
    "\n",
    "    #imgs = glob.glob(\"%s/*.png\" % img_dir) + glob.glob(\"%s/*.jpg\" % img_dir)\n",
    "    imgs = [f for f in os.listdir(img_dir) if f.endswith('.jpg') or f.endswith('.png')]\n",
    "\n",
    "    results = []\n",
    "\n",
    "    if fps:\n",
    "        start = time.time()\n",
    "\n",
    "    for img in imgs:\n",
    "\n",
    "        image_id = file2id[img]\n",
    "\n",
    "        img_cv = cv2.imread(os.path.join(img_dir, img))\n",
    "        img_h, img_w, _ = img_cv.shape\n",
    "        img_cv = letterbox_image(img_cv, [inp_dim, inp_dim])\n",
    "        im_dim = torch.FloatTensor((img_w, img_h)).repeat(1,2).to(device)\n",
    "        img_ts = image_to_tensor(img_cv).to(device)\n",
    "        \n",
    "        output = model(img_ts)\n",
    "\n",
    "        if type(output) != int:\n",
    "            im_dim = im_dim.repeat(output.size(0), 1)\n",
    "            scaling_factor = torch.min(inp_dim/im_dim,1)[0].view(-1,1).cuda()\n",
    "            output[:,[0,2]] -= (inp_dim - scaling_factor*im_dim[:,0].view(-1,1))/2\n",
    "            output[:,[1,3]] -= (inp_dim - scaling_factor*im_dim[:,1].view(-1,1))/2\n",
    "            output[:,0:4] /= scaling_factor\n",
    "            for i in range(output.shape[0]):\n",
    "                output[i, [0,2]] = torch.clamp(output[i, [0,2]], 0.0, im_dim[i,0])\n",
    "                output[i, [1,3]] = torch.clamp(output[i, [1,3]], 0.0, im_dim[i,1])\n",
    "                try:\n",
    "                    conf = output[i, 4].float().item()\n",
    "                except IndexError:\n",
    "                    print(output)\n",
    "                    exit()\n",
    "                cls = output[i, -1].int().item()\n",
    "                x = output[i, 0].int().item()\n",
    "                y = output[i, 1].int().item()\n",
    "                w = (output[i, 2] - output[i, 0]).float().item()\n",
    "                h = (output[i, 3] - output[i, 1]).float().item()\n",
    "\n",
    "                #print(image_id, cls, [xc, yc, w, h], conf)\n",
    "\n",
    "                results.append({'image_id': image_id,\n",
    "                                'category_id': cls,\n",
    "                                'bbox': [x, y, w, h],\n",
    "                                'score': conf})\n",
    "        \n",
    "    if fps:\n",
    "        end = time.time()\n",
    "        total_time = end-start\n",
    "        print(\"%d imgs, %f seconds, average: %f fps\" % (len(imgs), total_time, len(imgs)/total_time))\n",
    "\n",
    "    with open(results_json, 'w') as f:\n",
    "        f.write(json.dumps(results, indent=4))\n",
    "\n",
    "\n",
    "    cocoGt = COCO(val_anno)\n",
    "    cocoDt = cocoGt.loadRes(results_json)\n",
    "    cocoEval = COCOeval(cocoGt, cocoDt, 'bbox')\n",
    "    cocoEval.params.catIds = [class_id]\n",
    "    cocoEval.evaluate()\n",
    "    cocoEval.accumulate()\n",
    "    cocoEval.summarize()\n",
    "\n"
   ]
  },
  {
   "cell_type": "code",
   "execution_count": 2,
   "metadata": {},
   "outputs": [],
   "source": [
    "\n",
    "import patchFilter as pf\n",
    "\n",
    "device = \"cuda\"\n",
    "model_pf = pf.defense_model_v3()\n"
   ]
  },
  {
   "cell_type": "markdown",
   "metadata": {},
   "source": [
    "### INRIA"
   ]
  },
  {
   "cell_type": "code",
   "execution_count": 3,
   "metadata": {},
   "outputs": [
    {
     "name": "stdout",
     "output_type": "stream",
     "text": [
      "288 imgs, 16.150583 seconds, average: 17.832173 fps\n",
      "loading annotations into memory...\n",
      "Done (t=0.00s)\n",
      "creating index...\n",
      "index created!\n",
      "Loading and preparing results...\n",
      "DONE (t=0.00s)\n",
      "creating index...\n",
      "index created!\n",
      "Running per image evaluation...\n",
      "Evaluate annotation type *bbox*\n",
      "DONE (t=0.19s).\n",
      "Accumulating evaluation results...\n",
      "DONE (t=0.03s).\n",
      " Average Precision  (AP) @[ IoU=0.50:0.95 | area=   all | maxDets=100 ] = 0.581\n",
      " Average Precision  (AP) @[ IoU=0.50      | area=   all | maxDets=100 ] = 0.951\n",
      " Average Precision  (AP) @[ IoU=0.75      | area=   all | maxDets=100 ] = 0.644\n",
      " Average Precision  (AP) @[ IoU=0.50:0.95 | area= small | maxDets=100 ] = -1.000\n",
      " Average Precision  (AP) @[ IoU=0.50:0.95 | area=medium | maxDets=100 ] = 0.448\n",
      " Average Precision  (AP) @[ IoU=0.50:0.95 | area= large | maxDets=100 ] = 0.604\n",
      " Average Recall     (AR) @[ IoU=0.50:0.95 | area=   all | maxDets=  1 ] = 0.347\n",
      " Average Recall     (AR) @[ IoU=0.50:0.95 | area=   all | maxDets= 10 ] = 0.663\n",
      " Average Recall     (AR) @[ IoU=0.50:0.95 | area=   all | maxDets=100 ] = 0.670\n",
      " Average Recall     (AR) @[ IoU=0.50:0.95 | area= small | maxDets=100 ] = -1.000\n",
      " Average Recall     (AR) @[ IoU=0.50:0.95 | area=medium | maxDets=100 ] = 0.583\n",
      " Average Recall     (AR) @[ IoU=0.50:0.95 | area= large | maxDets=100 ] = 0.688\n"
     ]
    }
   ],
   "source": [
    "detection_defense_v3(\n",
    "    model=model_pf,\n",
    "    val_anno=\"Dataset/HA/test_annotations.json\",\n",
    "    img_dir=\"Dataset/HA/INRIA/pos/\",\n",
    "    results_json=\"test_map/yolov3_inria_pf.json\",\n",
    "    class_id=0,\n",
    "    inp_dim=416,\n",
    "    fps=True\n",
    ")"
   ]
  },
  {
   "cell_type": "code",
   "execution_count": 4,
   "metadata": {},
   "outputs": [
    {
     "name": "stdout",
     "output_type": "stream",
     "text": [
      "288 imgs, 12.990185 seconds, average: 22.170584 fps\n",
      "loading annotations into memory...\n",
      "Done (t=0.00s)\n",
      "creating index...\n",
      "index created!\n",
      "Loading and preparing results...\n",
      "DONE (t=0.12s)\n",
      "creating index...\n",
      "index created!\n",
      "Running per image evaluation...\n",
      "Evaluate annotation type *bbox*\n",
      "DONE (t=0.13s).\n",
      "Accumulating evaluation results...\n",
      "DONE (t=0.03s).\n",
      " Average Precision  (AP) @[ IoU=0.50:0.95 | area=   all | maxDets=100 ] = 0.462\n",
      " Average Precision  (AP) @[ IoU=0.50      | area=   all | maxDets=100 ] = 0.824\n",
      " Average Precision  (AP) @[ IoU=0.75      | area=   all | maxDets=100 ] = 0.506\n",
      " Average Precision  (AP) @[ IoU=0.50:0.95 | area= small | maxDets=100 ] = 0.040\n",
      " Average Precision  (AP) @[ IoU=0.50:0.95 | area=medium | maxDets=100 ] = 0.384\n",
      " Average Precision  (AP) @[ IoU=0.50:0.95 | area= large | maxDets=100 ] = 0.577\n",
      " Average Recall     (AR) @[ IoU=0.50:0.95 | area=   all | maxDets=  1 ] = 0.318\n",
      " Average Recall     (AR) @[ IoU=0.50:0.95 | area=   all | maxDets= 10 ] = 0.549\n",
      " Average Recall     (AR) @[ IoU=0.50:0.95 | area=   all | maxDets=100 ] = 0.550\n",
      " Average Recall     (AR) @[ IoU=0.50:0.95 | area= small | maxDets=100 ] = 0.147\n",
      " Average Recall     (AR) @[ IoU=0.50:0.95 | area=medium | maxDets=100 ] = 0.474\n",
      " Average Recall     (AR) @[ IoU=0.50:0.95 | area= large | maxDets=100 ] = 0.665\n"
     ]
    }
   ],
   "source": [
    "detection_defense_v3(\n",
    "    model=model_pf,\n",
    "    val_anno=\"Dataset/HA/test_adv_annotations.json\",\n",
    "    img_dir=\"Dataset/HA/INRIA/patch_v3/\",\n",
    "    results_json=\"test_map/yolov3_inria_patchv3_pf.json\",\n",
    "    class_id=0,\n",
    "    inp_dim=416,\n",
    "    fps=True\n",
    ")"
   ]
  },
  {
   "cell_type": "code",
   "execution_count": 5,
   "metadata": {},
   "outputs": [
    {
     "name": "stdout",
     "output_type": "stream",
     "text": [
      "288 imgs, 13.177919 seconds, average: 21.854741 fps\n",
      "loading annotations into memory...\n",
      "Done (t=0.00s)\n",
      "creating index...\n",
      "index created!\n",
      "Loading and preparing results...\n",
      "DONE (t=0.00s)\n",
      "creating index...\n",
      "index created!\n",
      "Running per image evaluation...\n",
      "Evaluate annotation type *bbox*\n",
      "DONE (t=0.14s).\n",
      "Accumulating evaluation results...\n",
      "DONE (t=0.03s).\n",
      " Average Precision  (AP) @[ IoU=0.50:0.95 | area=   all | maxDets=100 ] = 0.392\n",
      " Average Precision  (AP) @[ IoU=0.50      | area=   all | maxDets=100 ] = 0.738\n",
      " Average Precision  (AP) @[ IoU=0.75      | area=   all | maxDets=100 ] = 0.363\n",
      " Average Precision  (AP) @[ IoU=0.50:0.95 | area= small | maxDets=100 ] = 0.067\n",
      " Average Precision  (AP) @[ IoU=0.50:0.95 | area=medium | maxDets=100 ] = 0.386\n",
      " Average Precision  (AP) @[ IoU=0.50:0.95 | area= large | maxDets=100 ] = 0.461\n",
      " Average Recall     (AR) @[ IoU=0.50:0.95 | area=   all | maxDets=  1 ] = 0.267\n",
      " Average Recall     (AR) @[ IoU=0.50:0.95 | area=   all | maxDets= 10 ] = 0.515\n",
      " Average Recall     (AR) @[ IoU=0.50:0.95 | area=   all | maxDets=100 ] = 0.517\n",
      " Average Recall     (AR) @[ IoU=0.50:0.95 | area= small | maxDets=100 ] = 0.300\n",
      " Average Recall     (AR) @[ IoU=0.50:0.95 | area=medium | maxDets=100 ] = 0.499\n",
      " Average Recall     (AR) @[ IoU=0.50:0.95 | area= large | maxDets=100 ] = 0.553\n"
     ]
    }
   ],
   "source": [
    "detection_defense_v3(\n",
    "    model=model_pf,\n",
    "    val_anno=\"Dataset/HA/test_adv_annotations.json\",\n",
    "    img_dir=\"Dataset/HA/INRIA/natural_v3/\",\n",
    "    results_json=\"test_map/yolov2_inria_naturalv3_pf.json\",\n",
    "    class_id=0,\n",
    "    inp_dim=416,\n",
    "    fps=True\n",
    ")"
   ]
  },
  {
   "cell_type": "markdown",
   "metadata": {},
   "source": [
    "### AA"
   ]
  },
  {
   "cell_type": "code",
   "execution_count": 6,
   "metadata": {},
   "outputs": [
    {
     "name": "stdout",
     "output_type": "stream",
     "text": [
      "1000 imgs, 41.352319 seconds, average: 24.182441 fps\n",
      "loading annotations into memory...\n",
      "Done (t=0.00s)\n",
      "creating index...\n",
      "index created!\n",
      "Loading and preparing results...\n",
      "DONE (t=0.01s)\n",
      "creating index...\n",
      "index created!\n",
      "Running per image evaluation...\n",
      "Evaluate annotation type *bbox*\n",
      "DONE (t=0.12s).\n",
      "Accumulating evaluation results...\n",
      "DONE (t=0.03s).\n",
      " Average Precision  (AP) @[ IoU=0.50:0.95 | area=   all | maxDets=100 ] = 0.053\n",
      " Average Precision  (AP) @[ IoU=0.50      | area=   all | maxDets=100 ] = 0.081\n",
      " Average Precision  (AP) @[ IoU=0.75      | area=   all | maxDets=100 ] = 0.064\n",
      " Average Precision  (AP) @[ IoU=0.50:0.95 | area= small | maxDets=100 ] = -1.000\n",
      " Average Precision  (AP) @[ IoU=0.50:0.95 | area=medium | maxDets=100 ] = 0.074\n",
      " Average Precision  (AP) @[ IoU=0.50:0.95 | area= large | maxDets=100 ] = 0.038\n",
      " Average Recall     (AR) @[ IoU=0.50:0.95 | area=   all | maxDets=  1 ] = 0.060\n",
      " Average Recall     (AR) @[ IoU=0.50:0.95 | area=   all | maxDets= 10 ] = 0.060\n",
      " Average Recall     (AR) @[ IoU=0.50:0.95 | area=   all | maxDets=100 ] = 0.060\n",
      " Average Recall     (AR) @[ IoU=0.50:0.95 | area= small | maxDets=100 ] = -1.000\n",
      " Average Recall     (AR) @[ IoU=0.50:0.95 | area=medium | maxDets=100 ] = 0.082\n",
      " Average Recall     (AR) @[ IoU=0.50:0.95 | area= large | maxDets=100 ] = 0.034\n"
     ]
    }
   ],
   "source": [
    "detection_defense_v3(\n",
    "    model=model_pf,\n",
    "    val_anno=\"Dataset/AA/stop_test_annotations.json\",\n",
    "    img_dir=\"Dataset/AA/imgs_s/\",\n",
    "    results_json=\"test_map/yolov3_aa_stopsign_pf.json\",\n",
    "    class_id=11,\n",
    "    inp_dim=416,\n",
    "    fps=True\n",
    ")"
   ]
  },
  {
   "cell_type": "code",
   "execution_count": 7,
   "metadata": {},
   "outputs": [
    {
     "name": "stdout",
     "output_type": "stream",
     "text": [
      "1000 imgs, 42.420693 seconds, average: 23.573401 fps\n",
      "loading annotations into memory...\n",
      "Done (t=0.00s)\n",
      "creating index...\n",
      "index created!\n",
      "Loading and preparing results...\n",
      "DONE (t=0.01s)\n",
      "creating index...\n",
      "index created!\n",
      "Running per image evaluation...\n",
      "Evaluate annotation type *bbox*\n",
      "DONE (t=0.15s).\n",
      "Accumulating evaluation results...\n",
      "DONE (t=0.04s).\n",
      " Average Precision  (AP) @[ IoU=0.50:0.95 | area=   all | maxDets=100 ] = 0.001\n",
      " Average Precision  (AP) @[ IoU=0.50      | area=   all | maxDets=100 ] = 0.002\n",
      " Average Precision  (AP) @[ IoU=0.75      | area=   all | maxDets=100 ] = 0.001\n",
      " Average Precision  (AP) @[ IoU=0.50:0.95 | area= small | maxDets=100 ] = -1.000\n",
      " Average Precision  (AP) @[ IoU=0.50:0.95 | area=medium | maxDets=100 ] = 0.000\n",
      " Average Precision  (AP) @[ IoU=0.50:0.95 | area= large | maxDets=100 ] = 0.013\n",
      " Average Recall     (AR) @[ IoU=0.50:0.95 | area=   all | maxDets=  1 ] = 0.015\n",
      " Average Recall     (AR) @[ IoU=0.50:0.95 | area=   all | maxDets= 10 ] = 0.016\n",
      " Average Recall     (AR) @[ IoU=0.50:0.95 | area=   all | maxDets=100 ] = 0.016\n",
      " Average Recall     (AR) @[ IoU=0.50:0.95 | area= small | maxDets=100 ] = -1.000\n",
      " Average Recall     (AR) @[ IoU=0.50:0.95 | area=medium | maxDets=100 ] = 0.005\n",
      " Average Recall     (AR) @[ IoU=0.50:0.95 | area= large | maxDets=100 ] = 0.027\n"
     ]
    }
   ],
   "source": [
    "detection_defense_v3(\n",
    "    model=model_pf,\n",
    "    val_anno=\"Dataset/AA/person_test_annotations.json\",\n",
    "    img_dir=\"Dataset/AA/imgs_p/\",\n",
    "    results_json=\"test_map/yolov3_aa_person_pf.json\",\n",
    "    class_id=0,\n",
    "    inp_dim=416,\n",
    "    fps=True\n",
    ")"
   ]
  },
  {
   "cell_type": "markdown",
   "metadata": {},
   "source": [
    "## YOLO V4"
   ]
  },
  {
   "cell_type": "code",
   "execution_count": null,
   "metadata": {},
   "outputs": [],
   "source": [
    "import time\n",
    "from pycocotools.coco import COCO\n",
    "from pycocotools.cocoeval import COCOeval\n",
    "import torch\n",
    "import cv2\n",
    "import numpy as np\n",
    "import json\n",
    "import glob\n",
    "\n",
    "from util_model_img import load_classes, letterbox_image, image_to_tensor\n",
    "\n",
    "\n",
    "def detection_defense_v4(model, val_anno, img_dir, results_json, class_id, inp_dim, fps=False, device=\"cuda\"):\n",
    "\n",
    "    '''\n",
    "    val_anno: annotations of validation set images\n",
    "    img_dir: dir of validation set images\n",
    "    results_json: detection result\n",
    "    class_id: HA target class - person (0) and AA target class - stop sign (11)\n",
    "    '''\n",
    "\n",
    "    device = torch.device(device)\n",
    "\n",
    "    file2id = dict()\n",
    "    with open(val_anno) as f:\n",
    "        dic = json.load(f)\n",
    "        images = dic['images']\n",
    "        for i in range(len(images)):\n",
    "            image = images[i]\n",
    "            file2id[image['file_name']] = image['id']\n",
    "\n",
    "    #imgs = glob.glob(\"%s/*.png\" % img_dir) + glob.glob(\"%s/*.jpg\" % img_dir)\n",
    "    imgs = [f for f in os.listdir(img_dir) if f.endswith('.jpg') or f.endswith('.png')]\n",
    "\n",
    "\n",
    "    results = []\n",
    "\n",
    "    if fps:\n",
    "        start = time.time()\n",
    "\n",
    "    for img in imgs:\n",
    "\n",
    "        image_id = file2id[img]\n",
    "\n",
    "        img_cv = cv2.imread(os.path.join(img_dir, img))\n",
    "        img_h, img_w, _ = img_cv.shape\n",
    "        img_cv = letterbox_image(img_cv, [inp_dim, inp_dim])\n",
    "        im_dim = torch.FloatTensor((img_w, img_h)).repeat(1,2).to(device)\n",
    "        img_ts = image_to_tensor(img_cv).to(device)\n",
    "        \n",
    "        output = model(img_ts)\n",
    "        \n",
    "        if output is not None:\n",
    "\n",
    "            im_dim = im_dim.repeat(output.shape[0], 1)\n",
    "            scaling_factor = torch.min(inp_dim/im_dim,1)[0].view(-1,1).cpu().numpy()\n",
    "            output[:,[0,2]] -= (inp_dim - scaling_factor*im_dim[:,0].view(-1,1).cpu().numpy())/2\n",
    "            output[:,[1,3]] -= (inp_dim - scaling_factor*im_dim[:,1].view(-1,1).cpu().numpy())/2\n",
    "            output[:,0:4] /= scaling_factor\n",
    "\n",
    "            for i in range(output.shape[0]):\n",
    "                #output[i, [0,2]] = torch.clamp(output[i, [0,2]], 0.0, im_dim[i,0])\n",
    "                #output[i, [1,3]] = torch.clamp(output[i, [1,3]], 0.0, im_dim[i,1])\n",
    "                #try:\n",
    "                conf = output[i, 4]#.float().item()\n",
    "                #except IndexError:\n",
    "                #    print(output)\n",
    "                #    exit()\n",
    "                cls = output[i, -1]#.int().item()\n",
    "                x = output[i, 0]#.int().item()\n",
    "                y = output[i, 1]#.int().item()\n",
    "                w = (output[i, 2] - output[i, 0])#.float().item()\n",
    "                h = (output[i, 3] - output[i, 1])#.float().item()\n",
    "\n",
    "                #print(image_id, cls, [xc, yc, w, h], conf)\n",
    "\n",
    "                results.append({'image_id': image_id,\n",
    "                                'category_id': cls,\n",
    "                                'bbox': [x, y, w, h],\n",
    "                                'score': conf})\n",
    "        \n",
    "    if fps:\n",
    "        end = time.time()\n",
    "        total_time = end-start\n",
    "        print(\"%d imgs, %f seconds, average: %f fps\" % (len(imgs), total_time, len(imgs)/total_time))\n",
    "\n",
    "    with open(results_json, 'w') as f:\n",
    "        f.write(json.dumps(results, indent=4))\n",
    "\n",
    "\n",
    "    cocoGt = COCO(val_anno)\n",
    "    cocoDt = cocoGt.loadRes(results_json)\n",
    "    cocoEval = COCOeval(cocoGt, cocoDt, 'bbox')\n",
    "    cocoEval.params.catIds = [class_id]\n",
    "    cocoEval.evaluate()\n",
    "    cocoEval.accumulate()\n",
    "    cocoEval.summarize()"
   ]
  },
  {
   "cell_type": "code",
   "execution_count": 2,
   "metadata": {},
   "outputs": [],
   "source": [
    "import patchFilter as pf\n",
    "\n",
    "device = \"cuda\"\n",
    "model_pf = pf.defense_model_v4()"
   ]
  },
  {
   "cell_type": "markdown",
   "metadata": {},
   "source": [
    "### INRIA "
   ]
  },
  {
   "cell_type": "code",
   "execution_count": 3,
   "metadata": {},
   "outputs": [
    {
     "name": "stdout",
     "output_type": "stream",
     "text": [
      "288 imgs, 19.261607 seconds, average: 14.952023 fps\n",
      "loading annotations into memory...\n",
      "Done (t=0.00s)\n",
      "creating index...\n",
      "index created!\n",
      "Loading and preparing results...\n",
      "DONE (t=0.00s)\n",
      "creating index...\n",
      "index created!\n",
      "Running per image evaluation...\n",
      "Evaluate annotation type *bbox*\n",
      "DONE (t=0.12s).\n",
      "Accumulating evaluation results...\n",
      "DONE (t=0.02s).\n",
      " Average Precision  (AP) @[ IoU=0.50:0.95 | area=   all | maxDets=100 ] = 0.627\n",
      " Average Precision  (AP) @[ IoU=0.50      | area=   all | maxDets=100 ] = 0.947\n",
      " Average Precision  (AP) @[ IoU=0.75      | area=   all | maxDets=100 ] = 0.733\n",
      " Average Precision  (AP) @[ IoU=0.50:0.95 | area= small | maxDets=100 ] = -1.000\n",
      " Average Precision  (AP) @[ IoU=0.50:0.95 | area=medium | maxDets=100 ] = 0.454\n",
      " Average Precision  (AP) @[ IoU=0.50:0.95 | area= large | maxDets=100 ] = 0.654\n",
      " Average Recall     (AR) @[ IoU=0.50:0.95 | area=   all | maxDets=  1 ] = 0.366\n",
      " Average Recall     (AR) @[ IoU=0.50:0.95 | area=   all | maxDets= 10 ] = 0.698\n",
      " Average Recall     (AR) @[ IoU=0.50:0.95 | area=   all | maxDets=100 ] = 0.702\n",
      " Average Recall     (AR) @[ IoU=0.50:0.95 | area= small | maxDets=100 ] = -1.000\n",
      " Average Recall     (AR) @[ IoU=0.50:0.95 | area=medium | maxDets=100 ] = 0.611\n",
      " Average Recall     (AR) @[ IoU=0.50:0.95 | area= large | maxDets=100 ] = 0.722\n"
     ]
    }
   ],
   "source": [
    "detection_defense_v4(\n",
    "    model=model_pf,\n",
    "    val_anno=\"Dataset/HA/test_annotations.json\",\n",
    "    img_dir=\"Dataset/HA/INRIA/pos/\",\n",
    "    results_json=\"test_map/yolov4_inria_pf.json\",\n",
    "    class_id=0,\n",
    "    inp_dim=416,\n",
    "    fps=True\n",
    ")"
   ]
  },
  {
   "cell_type": "code",
   "execution_count": 4,
   "metadata": {},
   "outputs": [
    {
     "name": "stdout",
     "output_type": "stream",
     "text": [
      "288 imgs, 16.697686 seconds, average: 17.247898 fps\n",
      "loading annotations into memory...\n",
      "Done (t=0.00s)\n",
      "creating index...\n",
      "index created!\n",
      "Loading and preparing results...\n",
      "DONE (t=0.00s)\n",
      "creating index...\n",
      "index created!\n",
      "Running per image evaluation...\n",
      "Evaluate annotation type *bbox*\n",
      "DONE (t=0.12s).\n",
      "Accumulating evaluation results...\n",
      "DONE (t=0.02s).\n",
      " Average Precision  (AP) @[ IoU=0.50:0.95 | area=   all | maxDets=100 ] = 0.524\n",
      " Average Precision  (AP) @[ IoU=0.50      | area=   all | maxDets=100 ] = 0.838\n",
      " Average Precision  (AP) @[ IoU=0.75      | area=   all | maxDets=100 ] = 0.562\n",
      " Average Precision  (AP) @[ IoU=0.50:0.95 | area= small | maxDets=100 ] = 0.085\n",
      " Average Precision  (AP) @[ IoU=0.50:0.95 | area=medium | maxDets=100 ] = 0.448\n",
      " Average Precision  (AP) @[ IoU=0.50:0.95 | area= large | maxDets=100 ] = 0.643\n",
      " Average Recall     (AR) @[ IoU=0.50:0.95 | area=   all | maxDets=  1 ] = 0.343\n",
      " Average Recall     (AR) @[ IoU=0.50:0.95 | area=   all | maxDets= 10 ] = 0.614\n",
      " Average Recall     (AR) @[ IoU=0.50:0.95 | area=   all | maxDets=100 ] = 0.614\n",
      " Average Recall     (AR) @[ IoU=0.50:0.95 | area= small | maxDets=100 ] = 0.311\n",
      " Average Recall     (AR) @[ IoU=0.50:0.95 | area=medium | maxDets=100 ] = 0.524\n",
      " Average Recall     (AR) @[ IoU=0.50:0.95 | area= large | maxDets=100 ] = 0.735\n"
     ]
    }
   ],
   "source": [
    "detection_defense_v4(\n",
    "    model=model_pf,\n",
    "    val_anno=\"Dataset/HA/test_adv_annotations.json\",\n",
    "    img_dir=\"Dataset/HA/INRIA/patch_v4/\",\n",
    "    results_json=\"test_map/yolov4_inria_patchv4_pf.json\",\n",
    "    class_id=0,\n",
    "    inp_dim=416,\n",
    "    fps=True\n",
    ")"
   ]
  },
  {
   "cell_type": "code",
   "execution_count": 5,
   "metadata": {},
   "outputs": [
    {
     "name": "stdout",
     "output_type": "stream",
     "text": [
      "288 imgs, 16.469796 seconds, average: 17.486555 fps\n",
      "loading annotations into memory...\n",
      "Done (t=0.00s)\n",
      "creating index...\n",
      "index created!\n",
      "Loading and preparing results...\n",
      "DONE (t=0.00s)\n",
      "creating index...\n",
      "index created!\n",
      "Running per image evaluation...\n",
      "Evaluate annotation type *bbox*\n",
      "DONE (t=0.12s).\n",
      "Accumulating evaluation results...\n",
      "DONE (t=0.02s).\n",
      " Average Precision  (AP) @[ IoU=0.50:0.95 | area=   all | maxDets=100 ] = 0.507\n",
      " Average Precision  (AP) @[ IoU=0.50      | area=   all | maxDets=100 ] = 0.815\n",
      " Average Precision  (AP) @[ IoU=0.75      | area=   all | maxDets=100 ] = 0.569\n",
      " Average Precision  (AP) @[ IoU=0.50:0.95 | area= small | maxDets=100 ] = 0.102\n",
      " Average Precision  (AP) @[ IoU=0.50:0.95 | area=medium | maxDets=100 ] = 0.418\n",
      " Average Precision  (AP) @[ IoU=0.50:0.95 | area= large | maxDets=100 ] = 0.637\n",
      " Average Recall     (AR) @[ IoU=0.50:0.95 | area=   all | maxDets=  1 ] = 0.336\n",
      " Average Recall     (AR) @[ IoU=0.50:0.95 | area=   all | maxDets= 10 ] = 0.601\n",
      " Average Recall     (AR) @[ IoU=0.50:0.95 | area=   all | maxDets=100 ] = 0.601\n",
      " Average Recall     (AR) @[ IoU=0.50:0.95 | area= small | maxDets=100 ] = 0.384\n",
      " Average Recall     (AR) @[ IoU=0.50:0.95 | area=medium | maxDets=100 ] = 0.502\n",
      " Average Recall     (AR) @[ IoU=0.50:0.95 | area= large | maxDets=100 ] = 0.727\n"
     ]
    }
   ],
   "source": [
    "detection_defense_v4(\n",
    "    model=model_pf,\n",
    "    val_anno=\"Dataset/HA/test_adv_annotations.json\",\n",
    "    img_dir=\"Dataset/HA/INRIA/natural_v4/\",\n",
    "    results_json=\"test_map/yolov4_inria_naturalv4_pf.json\",\n",
    "    class_id=0,\n",
    "    inp_dim=416,\n",
    "    fps=True\n",
    ")"
   ]
  },
  {
   "cell_type": "markdown",
   "metadata": {},
   "source": [
    "### AA"
   ]
  },
  {
   "cell_type": "code",
   "execution_count": 6,
   "metadata": {},
   "outputs": [
    {
     "name": "stderr",
     "output_type": "stream",
     "text": [
      "/run/media/lzj/Linux/PatchFilter_Submit/model/decode_np.py:194: RuntimeWarning: overflow encountered in exp\n",
      "  return 1 / (1 + np.exp(-x))\n"
     ]
    },
    {
     "name": "stdout",
     "output_type": "stream",
     "text": [
      "1000 imgs, 57.390890 seconds, average: 17.424368 fps\n",
      "loading annotations into memory...\n",
      "Done (t=0.00s)\n",
      "creating index...\n",
      "index created!\n",
      "Loading and preparing results...\n",
      "DONE (t=0.01s)\n",
      "creating index...\n",
      "index created!\n",
      "Running per image evaluation...\n",
      "Evaluate annotation type *bbox*\n",
      "DONE (t=0.12s).\n",
      "Accumulating evaluation results...\n",
      "DONE (t=0.03s).\n",
      " Average Precision  (AP) @[ IoU=0.50:0.95 | area=   all | maxDets=100 ] = 0.009\n",
      " Average Precision  (AP) @[ IoU=0.50      | area=   all | maxDets=100 ] = 0.013\n",
      " Average Precision  (AP) @[ IoU=0.75      | area=   all | maxDets=100 ] = 0.006\n",
      " Average Precision  (AP) @[ IoU=0.50:0.95 | area= small | maxDets=100 ] = -1.000\n",
      " Average Precision  (AP) @[ IoU=0.50:0.95 | area=medium | maxDets=100 ] = 0.011\n",
      " Average Precision  (AP) @[ IoU=0.50:0.95 | area= large | maxDets=100 ] = 0.009\n",
      " Average Recall     (AR) @[ IoU=0.50:0.95 | area=   all | maxDets=  1 ] = 0.008\n",
      " Average Recall     (AR) @[ IoU=0.50:0.95 | area=   all | maxDets= 10 ] = 0.008\n",
      " Average Recall     (AR) @[ IoU=0.50:0.95 | area=   all | maxDets=100 ] = 0.008\n",
      " Average Recall     (AR) @[ IoU=0.50:0.95 | area= small | maxDets=100 ] = -1.000\n",
      " Average Recall     (AR) @[ IoU=0.50:0.95 | area=medium | maxDets=100 ] = 0.010\n",
      " Average Recall     (AR) @[ IoU=0.50:0.95 | area= large | maxDets=100 ] = 0.005\n"
     ]
    }
   ],
   "source": [
    "detection_defense_v4(\n",
    "    model=model_pf,\n",
    "    val_anno=\"Dataset/AA/stop_test_annotations.json\",\n",
    "    img_dir=\"Dataset/AA/imgs_s/\",\n",
    "    results_json=\"test_map/yolov4_aa_stopsign_pf.json\",\n",
    "    class_id=11,\n",
    "    inp_dim=416,\n",
    "    fps=True\n",
    ")"
   ]
  },
  {
   "cell_type": "code",
   "execution_count": 7,
   "metadata": {},
   "outputs": [
    {
     "name": "stdout",
     "output_type": "stream",
     "text": [
      "1000 imgs, 57.579350 seconds, average: 17.367338 fps\n",
      "loading annotations into memory...\n",
      "Done (t=0.00s)\n",
      "creating index...\n",
      "index created!\n",
      "Loading and preparing results...\n",
      "DONE (t=0.13s)\n",
      "creating index...\n",
      "index created!\n",
      "Running per image evaluation...\n",
      "Evaluate annotation type *bbox*\n",
      "DONE (t=0.15s).\n",
      "Accumulating evaluation results...\n",
      "DONE (t=0.03s).\n",
      " Average Precision  (AP) @[ IoU=0.50:0.95 | area=   all | maxDets=100 ] = 0.000\n",
      " Average Precision  (AP) @[ IoU=0.50      | area=   all | maxDets=100 ] = 0.000\n",
      " Average Precision  (AP) @[ IoU=0.75      | area=   all | maxDets=100 ] = 0.000\n",
      " Average Precision  (AP) @[ IoU=0.50:0.95 | area= small | maxDets=100 ] = -1.000\n",
      " Average Precision  (AP) @[ IoU=0.50:0.95 | area=medium | maxDets=100 ] = 0.000\n",
      " Average Precision  (AP) @[ IoU=0.50:0.95 | area= large | maxDets=100 ] = 0.001\n",
      " Average Recall     (AR) @[ IoU=0.50:0.95 | area=   all | maxDets=  1 ] = 0.001\n",
      " Average Recall     (AR) @[ IoU=0.50:0.95 | area=   all | maxDets= 10 ] = 0.002\n",
      " Average Recall     (AR) @[ IoU=0.50:0.95 | area=   all | maxDets=100 ] = 0.002\n",
      " Average Recall     (AR) @[ IoU=0.50:0.95 | area= small | maxDets=100 ] = -1.000\n",
      " Average Recall     (AR) @[ IoU=0.50:0.95 | area=medium | maxDets=100 ] = 0.000\n",
      " Average Recall     (AR) @[ IoU=0.50:0.95 | area= large | maxDets=100 ] = 0.003\n"
     ]
    }
   ],
   "source": [
    "detection_defense_v4(\n",
    "    model=model_pf,\n",
    "    val_anno=\"Dataset/AA/person_test_annotations.json\",\n",
    "    img_dir=\"Dataset/AA/imgs_p/\",\n",
    "    results_json=\"test_map/yolov4_aa_person_pf.json\",\n",
    "    class_id=0,\n",
    "    inp_dim=416,\n",
    "    fps=True\n",
    ")"
   ]
  }
 ],
 "metadata": {
  "kernelspec": {
   "display_name": "Python 3.8.8 ('base')",
   "language": "python",
   "name": "python3"
  },
  "language_info": {
   "codemirror_mode": {
    "name": "ipython",
    "version": 3
   },
   "file_extension": ".py",
   "mimetype": "text/x-python",
   "name": "python",
   "nbconvert_exporter": "python",
   "pygments_lexer": "ipython3",
   "version": "3.8.8"
  },
  "orig_nbformat": 4,
  "vscode": {
   "interpreter": {
    "hash": "ae3b0402f9dd51eaa3f0a02741215eae93554903d09a4648ec36843d0772e640"
   }
  }
 },
 "nbformat": 4,
 "nbformat_minor": 2
}
